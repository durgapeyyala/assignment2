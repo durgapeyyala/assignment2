{
 "cells": [
  {
   "cell_type": "code",
   "execution_count": 5,
   "id": "7451f0c5",
   "metadata": {},
   "outputs": [
    {
     "name": "stdout",
     "output_type": "stream",
     "text": [
      "enter first value: \t10\n",
      "enter the operator * or //\n",
      "enter second value: \t5\n",
      "division of 10 and 5 is 2.0\n"
     ]
    }
   ],
   "source": [
    "#1) Write a program to accept two numbers from the user and calculate multiplication, division\n",
    "x=int(input(\"enter first value: \\t\"))\n",
    "o=input(\"enter the operator * or /\")\n",
    "y=int(input(\"enter second value: \\t\"))\n",
    "if o==\"*\":\n",
    "    print(\"multiplication of {} and {} is {}\".format(x,y,x*y))\n",
    "elif o==\"/\":\n",
    "    print(\"division of {} and {} is {}\".format(x,y,x/y))\n",
    "    "
   ]
  },
  {
   "cell_type": "code",
   "execution_count": 8,
   "id": "5ba37c74",
   "metadata": {},
   "outputs": [
    {
     "name": "stdout",
     "output_type": "stream",
     "text": [
      "even index value: ['a', 'c', 'e']\n",
      "odd index value: ['b', 'd', 'f']\n"
     ]
    }
   ],
   "source": [
    "#2) Write a python program to print the characters from a string that are present at an even index\n",
    "x=\"abcdef\"\n",
    "even=[]\n",
    "odd=[]\n",
    "for y in range(len(x)):\n",
    "    if y%2==0:\n",
    "        even.append(x[y])\n",
    "    else:\n",
    "        odd.append(x[y])\n",
    "print(\"even index value: {}\".format(even))\n",
    "print(\"odd index value: {}\".format(odd))"
   ]
  },
  {
   "cell_type": "code",
   "execution_count": 22,
   "id": "b880716a",
   "metadata": {},
   "outputs": [
    {
     "name": "stdout",
     "output_type": "stream",
     "text": [
      "odd index are:  hac\n"
     ]
    }
   ],
   "source": [
    "#3) Write a python program to print the characters from a string that are present at an odd index\n",
    "x=\"theabcd\"\n",
    "#print(\"even index are: \",x[::2])\n",
    "print(\"odd index are: \",x[1::2])"
   ]
  },
  {
   "cell_type": "code",
   "execution_count": 26,
   "id": "61df4abc",
   "metadata": {},
   "outputs": [
    {
     "name": "stdout",
     "output_type": "stream",
     "text": [
      "enter first number4\n",
      "enter second number6\n",
      "sum of two numbers are: 4+6=10\n"
     ]
    }
   ],
   "source": [
    "#4) Write a python program which will print the sum of the two numbers if the two numbers are even or it will print the\n",
    "#difference of two numbers\n",
    "num1=int(input(\"enter first number\"))\n",
    "num2=int(input(\"enter second number\"))\n",
    "if num1%2==0 and num2%2==0:\n",
    "    print(\"sum of two numbers are: {}+{}={}\".format(num1,num2,num1+num2))\n",
    "else:\n",
    "    print(\"difference of two numbers are: {}-{}={}\".format(num1,num2,num1-num2))"
   ]
  },
  {
   "cell_type": "code",
   "execution_count": 27,
   "id": "fa59b589",
   "metadata": {},
   "outputs": [
    {
     "name": "stdout",
     "output_type": "stream",
     "text": [
      "enter first number3\n",
      "enter second number1\n",
      "difference of two numbers are: 3-1=2\n"
     ]
    }
   ],
   "source": [
    "num1=int(input(\"enter first number\"))\n",
    "num2=int(input(\"enter second number\"))\n",
    "if num1%2==0 and num2%2==0:\n",
    "    print(\"sum of two numbers are: {}+{}={}\".format(num1,num2,num1+num2))\n",
    "else:\n",
    "    print(\"difference of two numbers are: {}-{}={}\".format(num1,num2,num1-num2))"
   ]
  },
  {
   "cell_type": "code",
   "execution_count": 30,
   "id": "cd2b2576",
   "metadata": {},
   "outputs": [
    {
     "name": "stdout",
     "output_type": "stream",
     "text": [
      " AbCdEfGh\n"
     ]
    }
   ],
   "source": [
    "#5) Write a python program to convert all even indexed alphabets to upper and odd indexed char\n",
    "str1=\"abcdefgh\"\n",
    "l=\" \"\n",
    "for y in range(len(str1)):\n",
    "    if y%2==0:\n",
    "        l=l+str1[y].upper()\n",
    "    else:\n",
    "        l=l+str1[y].lower()\n",
    "print(l)"
   ]
  },
  {
   "cell_type": "code",
   "execution_count": 35,
   "id": "41a6b17c",
   "metadata": {},
   "outputs": [
    {
     "name": "stdout",
     "output_type": "stream",
     "text": [
      "enter any number2\n",
      "False\n"
     ]
    }
   ],
   "source": [
    "#6) Write a python program which will print True if the input number is divisible by 5 or else False\n",
    "numb=int(input(\"enter any number\"))\n",
    "if numb%5==0:\n",
    "    print(\"True\")\n",
    "else:\n",
    "    print(\"False\")"
   ]
  },
  {
   "cell_type": "code",
   "execution_count": 44,
   "id": "d03c8e97",
   "metadata": {},
   "outputs": [
    {
     "name": "stdout",
     "output_type": "stream",
     "text": [
      "enter any number5\n",
      "True\n"
     ]
    }
   ],
   "source": [
    "numb=int(input(\"enter any number\"))\n",
    "if numb%5==0:\n",
    "    print(\"True\")\n",
    "else:\n",
    "    print(\"False\")"
   ]
  },
  {
   "cell_type": "code",
   "execution_count": 38,
   "id": "01bb3f33",
   "metadata": {},
   "outputs": [
    {
     "name": "stdout",
     "output_type": "stream",
     "text": [
      "enter first number40\n",
      "enter second number32\n",
      "product of two numbers: 40*32=1280 \n"
     ]
    }
   ],
   "source": [
    "#7) Given two integer numbers return their product only if the product is greater than 1000, else return their sum\n",
    "x1=int(input(\"enter first number\"))\n",
    "x2=int(input(\"enter second number\"))\n",
    "if x1*x2>1000:\n",
    "    print(\"product of two numbers: {}*{}={} \".format(x1,x2,x1*x2))\n",
    "else:\n",
    "    print(\"sum of two numbers: {}+{}={} \".format(x1,x2,x1+x2))"
   ]
  },
  {
   "cell_type": "code",
   "execution_count": 40,
   "id": "2965dbc7",
   "metadata": {},
   "outputs": [
    {
     "name": "stdout",
     "output_type": "stream",
     "text": [
      "enter first number45\n",
      "enter second number12\n",
      "sum of two numbers: 45+12=57 \n"
     ]
    }
   ],
   "source": [
    "x1=int(input(\"enter first number\"))\n",
    "x2=int(input(\"enter second number\"))\n",
    "if x1*x2>1000:\n",
    "    print(\"product of two numbers: {}*{}={} \".format(x1,x2,x1*x2))\n",
    "else:\n",
    "    print(\"sum of two numbers: {}+{}={} \".format(x1,x2,x1+x2))"
   ]
  },
  {
   "cell_type": "code",
   "execution_count": 49,
   "id": "f321c3ef",
   "metadata": {},
   "outputs": [
    {
     "name": "stdout",
     "output_type": "stream",
     "text": [
      "pjtvos\n"
     ]
    }
   ],
   "source": [
    "#8) Given two strings x, y writes a program to return a new string made of x and y’s first, middle, and last characters\n",
    "#Example:Input X=” pytho” Y=” javas” Output ” pjtvos”\n",
    "x=\"pytho\"\n",
    "y=\"javas\"\n",
    "z=x[0]+y[0]+x[2]+y[2]+x[4]+y[4]\n",
    "print(z)"
   ]
  },
  {
   "cell_type": "code",
   "execution_count": 70,
   "id": "46ba27ea",
   "metadata": {},
   "outputs": [
    {
     "name": "stdout",
     "output_type": "stream",
     "text": [
      "Enter three names:person1 person2 person3\n",
      "Name1:-   person1\n",
      "Name2:-   person2\n",
      "Name3:-   person3\n"
     ]
    }
   ],
   "source": [
    "#9) Write a python program to take three names as input from a user in the single input () function call\n",
    "#Example:\n",
    "#Input:\n",
    "#Enter three names: - “person1 person2 person3”\n",
    "#Output:Name1: - “person1” Name2: - “person2” Name3: - “person3”\n",
    "x=input(\"Enter three names:\")\n",
    "y=x.split(\" \")\n",
    "print(\"Name1:-  \",''.join(y[0])) \n",
    "print(\"Name2:-  \",''.join(y[1]))\n",
    "print(\"Name3:-  \",''.join(y[2]))\n"
   ]
  },
  {
   "cell_type": "code",
   "execution_count": 4,
   "id": "5f892761",
   "metadata": {},
   "outputs": [
    {
     "data": {
      "text/plain": [
       "'malayala@'"
      ]
     },
     "execution_count": 4,
     "metadata": {},
     "output_type": "execute_result"
    }
   ],
   "source": [
    "#10) Write a Python program to get a string from a given string where all occurrences of its first char have been\n",
    "#changed to '@', except the first char itself.\n",
    "#Example:\n",
    "#Input:\n",
    "#'malayalam’\n",
    "#Output:\n",
    "#'malayala@'\n",
    "#Input:\n",
    "#' abcabab'\n",
    "#Output:\n",
    "#‘abc@b@b’\n",
    "x=\"malayalam\"\n",
    "x[0]+x[1:].replace(\"m\",\"@\")\n"
   ]
  },
  {
   "cell_type": "code",
   "execution_count": 5,
   "id": "9b5a9f63",
   "metadata": {},
   "outputs": [
    {
     "data": {
      "text/plain": [
       "'abc@b@b'"
      ]
     },
     "execution_count": 5,
     "metadata": {},
     "output_type": "execute_result"
    }
   ],
   "source": [
    "x=\"abcabab\"\n",
    "x[0]+x[1:].replace(\"a\",\"@\")"
   ]
  },
  {
   "cell_type": "code",
   "execution_count": 11,
   "id": "c1f7b4cb",
   "metadata": {},
   "outputs": [
    {
     "name": "stdout",
     "output_type": "stream",
     "text": [
      "singly\n",
      "on\n",
      "playingly\n"
     ]
    }
   ],
   "source": [
    "#11) Write a Python program to add 'ing' at the end of a given string (string length should be equal to or more than 3). If\n",
    "#the given string already ends with 'ing' then add 'ly' instead.\n",
    "#If the string length of the given string is less than 3, leave it unchanged\n",
    "#Example:Input:'sing’\n",
    "#Output:'singing'\n",
    "#Input:'playing'\n",
    "#Output:‘playly’\n",
    "#Input:'on'\n",
    "#Output:‘on’\n",
    "def add_string(str1):\n",
    "  length = len(str1)\n",
    "\n",
    "  if length > 2:\n",
    "    if str1[-3:] == 'ing':\n",
    "      str1 += 'ly'\n",
    "    else:\n",
    "      str1 += 'ing'\n",
    "\n",
    "  return str1\n",
    "print(add_string('sing'))\n",
    "print(add_string('on'))\n",
    "print(add_string('playing'))\n",
    "\n",
    "\n",
    "\n"
   ]
  },
  {
   "cell_type": "code",
   "execution_count": 14,
   "id": "d74b1861",
   "metadata": {},
   "outputs": [
    {
     "name": "stdout",
     "output_type": "stream",
     "text": [
      "enter first number5\n",
      "enter second number6\n",
      "False\n"
     ]
    }
   ],
   "source": [
    "#12) Write a python program that accepts two inputs num1 and num2 print True if one of them is 10 or if their sum is 10\n",
    "#otherwise print False\n",
    "num1=int(input(\"enter first number\"))\n",
    "num2=int(input(\"enter second number\"))\n",
    "sum=num1+num2\n",
    "if sum==10 or num1==10 or num2==10:\n",
    "    print(\"True\")\n",
    "else:\n",
    "    print(\"False\")"
   ]
  },
  {
   "cell_type": "code",
   "execution_count": 15,
   "id": "a5f2a75b",
   "metadata": {},
   "outputs": [
    {
     "name": "stdout",
     "output_type": "stream",
     "text": [
      "enter first number9\n",
      "enter second number1\n",
      "True\n"
     ]
    }
   ],
   "source": [
    "num1=int(input(\"enter first number\"))\n",
    "num2=int(input(\"enter second number\"))\n",
    "sum=num1+num2\n",
    "if sum==10 or num1==10 or num2==10:\n",
    "    print(\"True\")\n",
    "else:\n",
    "    print(\"False\")"
   ]
  },
  {
   "cell_type": "code",
   "execution_count": 18,
   "id": "3c63b06c",
   "metadata": {},
   "outputs": [
    {
     "name": "stdout",
     "output_type": "stream",
     "text": [
      "enter the first value10\n",
      "enter the second value2\n",
      "enter the third value30\n",
      "False\n"
     ]
    }
   ],
   "source": [
    "#13) Write a python program that accepts three inputs x, y and z print True if x*y>z otherwise False\n",
    "x=int(input(\"enter the first value\"))\n",
    "y=int(input(\"enter the second value\"))\n",
    "z=int(input(\"enter the third value\"))\n",
    "if x*y>z:\n",
    "      print(\"True\")\n",
    "else:\n",
    "      print(\"False\")"
   ]
  },
  {
   "cell_type": "code",
   "execution_count": 19,
   "id": "df3c8505",
   "metadata": {},
   "outputs": [
    {
     "name": "stdout",
     "output_type": "stream",
     "text": [
      "enter the first value3\n",
      "enter the second value6\n",
      "enter the third value2\n",
      "True\n"
     ]
    }
   ],
   "source": [
    "x=int(input(\"enter the first value\"))\n",
    "y=int(input(\"enter the second value\"))\n",
    "z=int(input(\"enter the third value\"))\n",
    "if x*y>z:\n",
    "      print(\"True\")\n",
    "else:\n",
    "      print(\"False\")"
   ]
  },
  {
   "cell_type": "code",
   "execution_count": 1,
   "id": "a98616dc",
   "metadata": {},
   "outputs": [
    {
     "name": "stdout",
     "output_type": "stream",
     "text": [
      " maggie\n",
      " durga\n",
      "False\n"
     ]
    }
   ],
   "source": [
    "#14) Write a python program that accepts two strings inputs return True depending on whether the total number of\n",
    "#characters in the first string is equal to the total number of characters in the second string\n",
    "str1=input(\" \")\n",
    "str2=input(\" \")\n",
    "if len(str1)==len(str2):\n",
    "    print(\"True\")\n",
    "else:\n",
    "    print(\"False\")\n"
   ]
  },
  {
   "cell_type": "code",
   "execution_count": 24,
   "id": "1f9881c0",
   "metadata": {},
   "outputs": [
    {
     "name": "stdout",
     "output_type": "stream",
     "text": [
      " durga\n",
      " prave\n",
      "True\n"
     ]
    }
   ],
   "source": [
    "str1=input(\" \")\n",
    "str2=input(\" \")\n",
    "if len(str1)==len(str2):\n",
    "    print(\"True\")\n",
    "else:\n",
    "    print(\"False\")\n"
   ]
  },
  {
   "cell_type": "code",
   "execution_count": 12,
   "id": "b2815b32",
   "metadata": {},
   "outputs": [
    {
     "name": "stdout",
     "output_type": "stream",
     "text": [
      "enter the string: durgasai\n",
      "dur\n"
     ]
    }
   ],
   "source": [
    "#15) Write a python program that takes a string input, we'll say that the front is the first three characters of the string. \n",
    "#If the\n",
    "#string length is less than three characters, the front is whatever is there. Return a new string, which is three copies\n",
    "#of the front\n",
    "x=input(\"enter the string: \")\n",
    "s=\"\"\n",
    "if len(x)<3:\n",
    "    s=x+x+x\n",
    "elif len(x)>=3:\n",
    "    s=x[:3]\n",
    "print(s)\n",
    "\n"
   ]
  },
  {
   "cell_type": "code",
   "execution_count": 3,
   "id": "70f696ce",
   "metadata": {},
   "outputs": [
    {
     "name": "stdout",
     "output_type": "stream",
     "text": [
      " sai\n",
      "given string is singular\n"
     ]
    }
   ],
   "source": [
    "#16) Write a python program that takes in a word and determines whether or not it is plural. A plural word is one\n",
    "#that ends in \"s\".\n",
    "str1=input(\" \")\n",
    "if str1.endswith(\"s\"):\n",
    "    print(\"given string is plural\")\n",
    "else:\n",
    "    print(\"given string is singular\")"
   ]
  },
  {
   "cell_type": "code",
   "execution_count": 4,
   "id": "45e3a423",
   "metadata": {},
   "outputs": [
    {
     "name": "stdout",
     "output_type": "stream",
     "text": [
      " vowles\n",
      "given string is plural\n"
     ]
    }
   ],
   "source": [
    "str1=input(\" \")\n",
    "if str1.endswith(\"s\"):\n",
    "    print(\"given string is plural\")\n",
    "else:\n",
    "    print(\"given string is singular\")"
   ]
  },
  {
   "cell_type": "code",
   "execution_count": 1,
   "id": "d4c80379",
   "metadata": {},
   "outputs": [
    {
     "name": "stdout",
     "output_type": "stream",
     "text": [
      "enter the person age 19\n",
      "enter the True(break) or False false\n",
      "he serves the drink\n"
     ]
    }
   ],
   "source": [
    "#17) A bartender is writing a simple program to determine whether he should serve drinks to someone. He only serves\n",
    "#drinks to people 18 and older and when he's not on break(True means break and False means not a break time). Given\n",
    "#the person's age, and whether break time is in session, create a python program which prints whether he should serve\n",
    "#drinks or not.\n",
    "x=int(input(\"enter the person age \"))\n",
    "y=input(\"enter the True(break) or False \")\n",
    "if x>=18 and y==\"false\":\n",
    "    print(\"he serves the drink\")\n",
    "elif x>=18 and y==\"true\": \n",
    "    print(\"he doesn't serves\")\n",
    "elif x<=18:\n",
    "    print(\"not serves below age 18\")\n",
    "\n",
    "    \n"
   ]
  },
  {
   "cell_type": "code",
   "execution_count": 2,
   "id": "f7c2b7c2",
   "metadata": {},
   "outputs": [
    {
     "name": "stdout",
     "output_type": "stream",
     "text": [
      "enter the person age 20\n",
      "enter the True(break) or False true\n",
      "he doesn't serves\n"
     ]
    }
   ],
   "source": [
    "x=int(input(\"enter the person age \"))\n",
    "y=input(\"enter the True(break) or False \")\n",
    "if x>=18 and y==\"false\":\n",
    "    print(\"he serves the drink\")\n",
    "elif x>=18 and y==\"true\": \n",
    "    print(\"he doesn't serves\")\n",
    "elif x<=18:\n",
    "    print(\"not serves below age 18\")\n",
    "\n",
    "    "
   ]
  },
  {
   "cell_type": "code",
   "execution_count": 3,
   "id": "825eec45",
   "metadata": {},
   "outputs": [
    {
     "name": "stdout",
     "output_type": "stream",
     "text": [
      "enter the person age 12\n",
      "enter the True(break) or False true\n",
      "not serves below age 18\n"
     ]
    }
   ],
   "source": [
    "x=int(input(\"enter the person age \"))\n",
    "y=input(\"enter the True(break) or False \")\n",
    "if x>=18 and y==\"false\":\n",
    "    print(\"he serves the drink\")\n",
    "elif x>=18 and y==\"true\": \n",
    "    print(\"he doesn't serves\")\n",
    "elif x<=18:\n",
    "    print(\"not serves below age 18\")\n"
   ]
  },
  {
   "cell_type": "code",
   "execution_count": 3,
   "id": "83fbb61a",
   "metadata": {},
   "outputs": [
    {
     "name": "stdout",
     "output_type": "stream",
     "text": [
      "enter the name to know the relation to manoj kumar:shiva or letha or tarunshiva\n",
      "shiva is, his father\n"
     ]
    }
   ],
   "source": [
    "#18) Manoj Kumar has family and friends. Help him remind them who is who. Given a string with a name, return the\n",
    "#relation of that person to Manoj Kumar. Person Relation\n",
    "#Shiva father\n",
    "#Letha mother\n",
    "#Tarun brother\n",
    "name=input(\"enter the name to know the relation to manoj kumar:shiva or letha or tarun\")\n",
    "if name==\"shiva\":\n",
    "    print(\"shiva is, his father\")\n",
    "elif name==\"letha\":\n",
    "    print(\"letha is, his mother\")\n",
    "elif name==\"tarun\":\n",
    "    print(\"tarun is, his brother\")\n"
   ]
  },
  {
   "cell_type": "code",
   "execution_count": 4,
   "id": "c4af122a",
   "metadata": {},
   "outputs": [
    {
     "name": "stdout",
     "output_type": "stream",
     "text": [
      "enter the name to know the relation to manoj kumar:shiva or letha or tarunletha\n",
      "letha is, his mother\n"
     ]
    }
   ],
   "source": [
    "name=input(\"enter the name to know the relation to manoj kumar:shiva or letha or tarun\")\n",
    "if name==\"shiva\":\n",
    "    print(\"shiva is, his father\")\n",
    "elif name==\"letha\":\n",
    "    print(\"letha is, his mother\")\n",
    "elif name==\"tarun\":\n",
    "    print(\"tarun is, his brother\")\n"
   ]
  },
  {
   "cell_type": "code",
   "execution_count": 5,
   "id": "6a65e5e6",
   "metadata": {},
   "outputs": [
    {
     "name": "stdout",
     "output_type": "stream",
     "text": [
      "enter the name to know the relation to manoj kumar:shiva or letha or taruntarun\n",
      "tarun is, his brother\n"
     ]
    }
   ],
   "source": [
    "name=input(\"enter the name to know the relation to manoj kumar:shiva or letha or tarun\")\n",
    "if name==\"shiva\":\n",
    "    print(\"shiva is, his father\")\n",
    "elif name==\"letha\":\n",
    "    print(\"letha is, his mother\")\n",
    "elif name==\"tarun\":\n",
    "    print(\"tarun is, his brother\")\n"
   ]
  },
  {
   "cell_type": "code",
   "execution_count": 7,
   "id": "0da45293",
   "metadata": {},
   "outputs": [
    {
     "name": "stdout",
     "output_type": "stream",
     "text": [
      "abcdefghijklmnopqrstuvwxyz\n",
      " aeiou bcdfghjklmnpqrstvwxyz\n"
     ]
    }
   ],
   "source": [
    "#19) Write a python program that takes a string, breaks it up and returns it with vowels first, consonants second. For any\n",
    "#character that's not a vowel (like special characters or spaces), treat them like consonants\n",
    "str=input()\n",
    "v=\" \"\n",
    "c=\" \"\n",
    "for alpha in str:\n",
    "    if alpha in [\"a\",\"e\",\"i\",\"o\",\"u\"]:\n",
    "        v=v+alpha\n",
    "    else:\n",
    "        c=c+alpha\n",
    "print(v+c)"
   ]
  },
  {
   "cell_type": "code",
   "execution_count": 8,
   "id": "f6c8fe36",
   "metadata": {},
   "outputs": [
    {
     "name": "stdout",
     "output_type": "stream",
     "text": [
      "enter first number10\n",
      "give any operator to perform an operation +,-,*,/,%,**,**\n",
      "enter second number19\n",
      "multiplication of two numbers is 10*19=190\n"
     ]
    }
   ],
   "source": [
    "#20) Create a dynamic calculator which asks for numbers and operator and return the answers\n",
    "#Example Input: Type first number: 10 Type any of this (+, -, *, /, %, **): * \n",
    "#Type second number: 19\n",
    "#Output:\n",
    "#Answer is 190\n",
    "x=int(input(\"enter first number\"))\n",
    "ope=input(\"give any operator to perform an operation +,-,*,/,%,**,*\")\n",
    "y=int(input(\"enter second number\"))\n",
    "if ope==\"+\":\n",
    "    print(\"sum of two numbers is {}+{}={}\".format(x,y,x+y))\n",
    "elif ope==\"-\":\n",
    "    print(\"difference of two numbers is {}-{}={}\".format(x,y,x-y))\n",
    "elif ope==\"*\":\n",
    "    print(\"multiplication of two numbers is {}*{}={}\".format(x,y,x*y))\n",
    "elif ope==\"/\":\n",
    "    print(\"division of two numbers is {}/{}={}\".format(x,y,x/y))\n",
    "elif ope==\"%\":\n",
    "    print(\"modulas of two numbers is {}%{}={}\".format(x,y,x%y))\n",
    "elif ope==\"**\":\n",
    "    print(\"power of two numbers is {}**{}={}\".format(x,y,x**y))\n",
    "else:\n",
    "    print(\"you pressed invalid operator\")\n",
    "\n",
    "\n",
    "\n",
    "\n"
   ]
  },
  {
   "cell_type": "code",
   "execution_count": 9,
   "id": "4d4daae6",
   "metadata": {},
   "outputs": [
    {
     "name": "stdout",
     "output_type": "stream",
     "text": [
      "enter first number3\n",
      "give any operator to perform an operation +,-,*,/,%,**,***\n",
      "enter second number4\n",
      "power of two numbers is 3**4=81\n"
     ]
    }
   ],
   "source": [
    "x=int(input(\"enter first number\"))\n",
    "ope=input(\"give any operator to perform an operation +,-,*,/,%,**,*\")\n",
    "y=int(input(\"enter second number\"))\n",
    "if ope==\"+\":\n",
    "    print(\"sum of two numbers is {}+{}={}\".format(x,y,x+y))\n",
    "elif ope==\"-\":\n",
    "    print(\"difference of two numbers is {}-{}={}\".format(x,y,x-y))\n",
    "elif ope==\"*\":\n",
    "    print(\"multiplication of two numbers is {}*{}={}\".format(x,y,x*y))\n",
    "elif ope==\"/\":\n",
    "    print(\"division of two numbers is {}/{}={}\".format(x,y,x/y))\n",
    "elif ope==\"%\":\n",
    "    print(\"modulas of two numbers is {}%{}={}\".format(x,y,x%y))\n",
    "elif ope==\"**\":\n",
    "    print(\"power of two numbers is {}**{}={}\".format(x,y,x**y))\n",
    "else:\n",
    "    print(\"you pressed invalid operator\")\n",
    "\n"
   ]
  },
  {
   "cell_type": "code",
   "execution_count": null,
   "id": "8cf48525",
   "metadata": {},
   "outputs": [],
   "source": []
  }
 ],
 "metadata": {
  "kernelspec": {
   "display_name": "Python 3 (ipykernel)",
   "language": "python",
   "name": "python3"
  },
  "language_info": {
   "codemirror_mode": {
    "name": "ipython",
    "version": 3
   },
   "file_extension": ".py",
   "mimetype": "text/x-python",
   "name": "python",
   "nbconvert_exporter": "python",
   "pygments_lexer": "ipython3",
   "version": "3.9.13"
  }
 },
 "nbformat": 4,
 "nbformat_minor": 5
}
